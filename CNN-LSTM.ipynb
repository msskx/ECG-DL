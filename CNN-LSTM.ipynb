{
 "cells": [
  {
   "cell_type": "code",
   "execution_count": 1,
   "id": "d7829be5",
   "metadata": {},
   "outputs": [],
   "source": [
    "import pandas as pd\n",
    "import numpy as np\n",
    "import wfdb\n",
    "import ast\n",
    "import matplotlib.pyplot as plt"
   ]
  },
  {
   "cell_type": "code",
   "execution_count": 10,
   "id": "e6816cb3",
   "metadata": {},
   "outputs": [],
   "source": [
    "from  tensorflow.keras.models import Sequential\n",
    "from tensorflow.keras.layers import Dropout,Dense,TimeDistributed,Conv1D,MaxPooling1D,Flatten,LSTM,ConvLSTM2D,Conv2D,MaxPooling2D\n",
    "from tensorflow.keras.utils import to_categorical\n",
    "from tensorflow import keras"
   ]
  },
  {
   "cell_type": "code",
   "execution_count": 3,
   "id": "c2beb6d3",
   "metadata": {},
   "outputs": [
    {
     "name": "stdout",
     "output_type": "stream",
     "text": [
      "原数据集训练样本数：19634，去除空值后样本数：10452\n",
      "原数据集测试样本数：2203，去除空值后样本数：1169\n"
     ]
    }
   ],
   "source": [
    "from dataset import myData"
   ]
  },
  {
   "cell_type": "code",
   "execution_count": 4,
   "id": "090d5633",
   "metadata": {},
   "outputs": [],
   "source": [
    "data=myData()"
   ]
  },
  {
   "cell_type": "code",
   "execution_count": 5,
   "id": "8d0af0ea",
   "metadata": {},
   "outputs": [
    {
     "name": "stdout",
     "output_type": "stream",
     "text": [
      "X_train'shape:(10452, 1000, 12)  y_train'shape:(10452, 2)  X_test'shape:(1169, 1000, 12)  y_test'shape:(1169, 2)\n"
     ]
    }
   ],
   "source": [
    "X_train,y_train,X_test,y_test=data.dataset01()"
   ]
  },
  {
   "cell_type": "code",
   "execution_count": 6,
   "id": "a60184fd",
   "metadata": {},
   "outputs": [],
   "source": [
    "verbose, epochs, batch_size = 1, 15, 64\n",
    "n_timesteps, n_features, n_outputs = X_train.shape[1], X_train.shape[2], y_train.shape[1]"
   ]
  },
  {
   "cell_type": "code",
   "execution_count": 7,
   "id": "931c9e99",
   "metadata": {},
   "outputs": [
    {
     "data": {
      "text/plain": [
       "(1000, 12, 2)"
      ]
     },
     "execution_count": 7,
     "metadata": {},
     "output_type": "execute_result"
    }
   ],
   "source": [
    "n_timesteps, n_features, n_outputs"
   ]
  },
  {
   "cell_type": "code",
   "execution_count": 8,
   "id": "a5af3617",
   "metadata": {},
   "outputs": [],
   "source": [
    "#define model\n",
    "model = Sequential()\n",
    "model.add(Conv1D(filters=64, kernel_size=3, activation='relu', input_shape=(X_train.shape[1],X_train.shape[2])))\n",
    "\n",
    "model.add(Conv1D(filters=128, kernel_size=3, activation='relu'))\n",
    "\n",
    "model.add(Conv1D(filters=256, kernel_size=3, activation='relu'))\n",
    "model.add(Dropout(0.5))\n",
    "\n",
    "\n",
    "model.add(MaxPooling1D(pool_size=2))\n",
    "\n",
    "model.add(LSTM(100))\n",
    "model.add(Dropout(0.5))\n",
    "model.add(Flatten())\n",
    "model.add(Dense(100, activation='relu'))\n",
    "model.add(Dense(2, activation='sigmoid'))\n",
    "model.compile(loss='binary_crossentropy', optimizer='adam', metrics=['accuracy'])\n"
   ]
  },
  {
   "cell_type": "code",
   "execution_count": 11,
   "id": "2b9b719d",
   "metadata": {},
   "outputs": [],
   "source": [
    "callbacks = [keras.callbacks.EarlyStopping(patience=10, restore_best_weights=True)]"
   ]
  },
  {
   "cell_type": "code",
   "execution_count": 12,
   "id": "bb90e5d6",
   "metadata": {},
   "outputs": [
    {
     "name": "stdout",
     "output_type": "stream",
     "text": [
      "Model: \"sequential\"\n",
      "_________________________________________________________________\n",
      " Layer (type)                Output Shape              Param #   \n",
      "=================================================================\n",
      " conv1d (Conv1D)             (None, 998, 64)           2368      \n",
      "                                                                 \n",
      " conv1d_1 (Conv1D)           (None, 996, 128)          24704     \n",
      "                                                                 \n",
      " conv1d_2 (Conv1D)           (None, 994, 256)          98560     \n",
      "                                                                 \n",
      " dropout (Dropout)           (None, 994, 256)          0         \n",
      "                                                                 \n",
      " max_pooling1d (MaxPooling1D  (None, 497, 256)         0         \n",
      " )                                                               \n",
      "                                                                 \n",
      " lstm (LSTM)                 (None, 100)               142800    \n",
      "                                                                 \n",
      " dropout_1 (Dropout)         (None, 100)               0         \n",
      "                                                                 \n",
      " flatten (Flatten)           (None, 100)               0         \n",
      "                                                                 \n",
      " dense (Dense)               (None, 100)               10100     \n",
      "                                                                 \n",
      " dense_1 (Dense)             (None, 2)                 202       \n",
      "                                                                 \n",
      "=================================================================\n",
      "Total params: 278,734\n",
      "Trainable params: 278,734\n",
      "Non-trainable params: 0\n",
      "_________________________________________________________________\n"
     ]
    }
   ],
   "source": [
    "model.summary()"
   ]
  },
  {
   "cell_type": "code",
   "execution_count": 14,
   "id": "78fa63cb",
   "metadata": {},
   "outputs": [
    {
     "name": "stdout",
     "output_type": "stream",
     "text": [
      "Epoch 1/15\n",
      "82/82 [==============================] - 242s 3s/step - loss: 0.5144 - accuracy: 0.7821 - val_loss: 0.5003 - val_accuracy: 0.7836\n",
      "Epoch 2/15\n",
      "82/82 [==============================] - 314s 4s/step - loss: 0.4679 - accuracy: 0.8009 - val_loss: 0.4389 - val_accuracy: 0.8169\n",
      "Epoch 3/15\n",
      "82/82 [==============================] - 273s 3s/step - loss: 0.4812 - accuracy: 0.8021 - val_loss: 0.4643 - val_accuracy: 0.8050\n",
      "Epoch 4/15\n",
      "82/82 [==============================] - 222s 3s/step - loss: 0.4503 - accuracy: 0.8102 - val_loss: 0.4879 - val_accuracy: 0.7553\n",
      "Epoch 5/15\n",
      "82/82 [==============================] - 220s 3s/step - loss: 0.4132 - accuracy: 0.8263 - val_loss: 0.3928 - val_accuracy: 0.8281\n",
      "Epoch 6/15\n",
      "82/82 [==============================] - 220s 3s/step - loss: 0.5391 - accuracy: 0.7588 - val_loss: 0.5253 - val_accuracy: 0.7810\n",
      "Epoch 7/15\n",
      "82/82 [==============================] - 218s 3s/step - loss: 0.4882 - accuracy: 0.7808 - val_loss: 0.4580 - val_accuracy: 0.7819\n",
      "Epoch 8/15\n",
      "82/82 [==============================] - 220s 3s/step - loss: 0.4027 - accuracy: 0.8285 - val_loss: 0.4109 - val_accuracy: 0.7981\n",
      "Epoch 9/15\n",
      "82/82 [==============================] - 256s 3s/step - loss: 0.3335 - accuracy: 0.8662 - val_loss: 0.3246 - val_accuracy: 0.8666\n",
      "Epoch 10/15\n",
      "82/82 [==============================] - 236s 3s/step - loss: 0.3527 - accuracy: 0.8610 - val_loss: 0.3653 - val_accuracy: 0.8494\n",
      "Epoch 11/15\n",
      "82/82 [==============================] - 225s 3s/step - loss: 0.3176 - accuracy: 0.8787 - val_loss: 0.3160 - val_accuracy: 0.8691\n",
      "Epoch 12/15\n",
      "82/82 [==============================] - 224s 3s/step - loss: 0.2871 - accuracy: 0.8917 - val_loss: 0.3101 - val_accuracy: 0.8640\n",
      "Epoch 13/15\n",
      "82/82 [==============================] - 222s 3s/step - loss: 0.2838 - accuracy: 0.8883 - val_loss: 0.2956 - val_accuracy: 0.8760\n",
      "Epoch 14/15\n",
      "82/82 [==============================] - 222s 3s/step - loss: 0.2627 - accuracy: 0.8955 - val_loss: 0.3024 - val_accuracy: 0.8768\n",
      "Epoch 15/15\n",
      "82/82 [==============================] - 222s 3s/step - loss: 0.2521 - accuracy: 0.8998 - val_loss: 0.2946 - val_accuracy: 0.8794\n"
     ]
    }
   ],
   "source": [
    "history = model.fit(X_train, y_train, batch_size=128, epochs=15, validation_data=(X_test, y_test), validation_freq=1,callbacks=callbacks)\n"
   ]
  },
  {
   "cell_type": "code",
   "execution_count": 15,
   "id": "6ab9139d",
   "metadata": {},
   "outputs": [],
   "source": [
    "from sklearn.metrics import confusion_matrix\n",
    "from sklearn.metrics import accuracy_score\n",
    "from sklearn.metrics import precision_score, recall_score, f1_score\n",
    " "
   ]
  },
  {
   "cell_type": "code",
   "execution_count": 16,
   "id": "8990aa4b",
   "metadata": {},
   "outputs": [
    {
     "name": "stdout",
     "output_type": "stream",
     "text": [
      "准确率：  0.8793840889649273\n",
      "混淆矩阵：\n",
      "[[160  96]\n",
      " [ 45 868]]\n",
      "precision_score:  0.9004149377593361\n",
      "recall:  0.9507119386637459\n",
      "f1 score:  0.9248801278636123\n"
     ]
    }
   ],
   "source": [
    "actual = y_test.argmax(axis=1)     #真实的类别标签（将one-hot)标签逆向\n",
    "predict_x=model.predict(X_test) #预测标签\n",
    "predicted=np.argmax(predict_x,axis=1)#one-hot编码逆向\n",
    "\n",
    "# 计算总的精度\n",
    "acc = accuracy_score(actual, predicted)\n",
    "print(\"准确率： \",acc)\n",
    "# 计算混淆矩阵\n",
    "print(\"混淆矩阵：\")\n",
    "print(confusion_matrix(actual, predicted))\n",
    "#计算 precision_score\n",
    "print(\"precision_score:\",end=\"  \")\n",
    "print(precision_score(actual, predicted, average=\"binary\", pos_label=1)) # pos_label设置为1，代表标签为1的样本是正例，标签为2的样本是负例。\n",
    "#\trecall\n",
    "print(\"recall: \",end=\" \")\n",
    "print(recall_score(actual, predicted, average=\"binary\", pos_label=1))\n",
    "#\tF1\n",
    "print(\"f1 score: \",end=\" \")\n",
    "print(f1_score(actual, predicted, average=\"binary\", pos_label=1))"
   ]
  },
  {
   "cell_type": "code",
   "execution_count": 17,
   "id": "1ac4b15f",
   "metadata": {},
   "outputs": [
    {
     "data": {
      "image/png": "[encoded data removed]",
      "text/plain": [
       "<Figure size 432x288 with 1 Axes>"
      ]
     },
     "metadata": {
      "needs_background": "light"
     },
     "output_type": "display_data"
    }
   ],
   "source": [
    "loss = history.history['loss']\n",
    "val_loss = history.history['val_loss']\n",
    "\n",
    "plt.plot(loss, label='Training Loss')\n",
    "plt.plot(val_loss, label='Validation Loss')\n",
    "plt.title('Training and Validation Loss')\n",
    "plt.legend()\n",
    "plt.show()"
   ]
  },
  {
   "cell_type": "code",
   "execution_count": null,
   "id": "f97c0f5d",
   "metadata": {},
   "outputs": [],
   "source": []
  },
  {
   "cell_type": "code",
   "execution_count": null,
   "id": "b81fcad0",
   "metadata": {},
   "outputs": [],
   "source": []
  },
  {
   "cell_type": "code",
   "execution_count": null,
   "id": "245ceb11",
   "metadata": {},
   "outputs": [],
   "source": []
  },
  {
   "cell_type": "code",
   "execution_count": null,
   "id": "3b20c594",
   "metadata": {},
   "outputs": [],
   "source": []
  },
  {
   "cell_type": "code",
   "execution_count": null,
   "id": "5545b1b6",
   "metadata": {},
   "outputs": [],
   "source": []
  },
  {
   "cell_type": "code",
   "execution_count": null,
   "id": "d158d7ac",
   "metadata": {},
   "outputs": [],
   "source": []
  },
  {
   "cell_type": "code",
   "execution_count": null,
   "id": "8acee7b7",
   "metadata": {},
   "outputs": [],
   "source": []
  }
 ],
 "metadata": {
  "kernelspec": {
   "display_name": "Python 3 (ipykernel)",
   "language": "python",
   "name": "python3"
  }
 },
 "nbformat": 4,
 "nbformat_minor": 5
}
