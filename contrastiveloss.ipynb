{
 "cells": [
  {
   "cell_type": "code",
   "execution_count": 80,
   "metadata": {},
   "outputs": [],
   "source": [
    "import random\n",
    "import numpy as np\n",
    "import os\n",
    "os.environ['TF_CPP_MIN_LOG_LEVEL']='2'\n",
    "import tensorflow as tf\n",
    "from tensorflow import keras\n",
    "from tensorflow.keras import layers\n",
    "import matplotlib.pyplot as plt"
   ]
  },
  {
   "cell_type": "code",
   "execution_count": null,
   "metadata": {},
   "outputs": [],
   "source": []
  },
  {
   "cell_type": "code",
   "execution_count": null,
   "metadata": {},
   "outputs": [],
   "source": []
  },
  {
   "cell_type": "code",
   "execution_count": null,
   "metadata": {},
   "outputs": [],
   "source": []
  },
  {
   "cell_type": "code",
   "execution_count": null,
   "metadata": {},
   "outputs": [],
   "source": []
  },
  {
   "cell_type": "code",
   "execution_count": null,
   "metadata": {},
   "outputs": [],
   "source": []
  },
  {
   "cell_type": "code",
   "execution_count": 81,
   "metadata": {},
   "outputs": [],
   "source": [
    "from Data.Dataloader import DataLoader"
   ]
  },
  {
   "cell_type": "code",
   "execution_count": 82,
   "metadata": {},
   "outputs": [
    {
     "name": "stdout",
     "output_type": "stream",
     "text": [
      "================loading data================\n",
      "原数据集训练样本数：19603，去除空值后样本数：10436\n",
      "原数据集测试样本数：2198，去除空值后样本数：1168\n"
     ]
    }
   ],
   "source": [
    "data = DataLoader()"
   ]
  },
  {
   "cell_type": "code",
   "execution_count": 83,
   "metadata": {},
   "outputs": [],
   "source": [
    "X_train, y_train, X_test, y_test = data.getdata01()"
   ]
  },
  {
   "cell_type": "code",
   "execution_count": 84,
   "metadata": {},
   "outputs": [],
   "source": [
    "#独热码归一化\n",
    "y_train=np.argmax(np.array(y_train),axis=1)\n",
    "y_test=np.argmax(np.array(y_test),axis=1)"
   ]
  },
  {
   "cell_type": "code",
   "execution_count": 85,
   "metadata": {},
   "outputs": [],
   "source": [
    "x_test=X_test\n",
    "y_test=y_test"
   ]
  },
  {
   "cell_type": "code",
   "execution_count": 86,
   "metadata": {},
   "outputs": [],
   "source": [
    "x_train, x_val = X_train[:5226], X_train[5226:]\n",
    "y_train, y_val = y_train[:5226], y_train[5226:]"
   ]
  },
  {
   "cell_type": "code",
   "execution_count": 87,
   "metadata": {},
   "outputs": [],
   "source": [
    "# \n",
    "def make_pairs(x, y):\n",
    "    \"\"\"\n",
    "      创建包含具有相应标签的心电图对的元组\n",
    "      x : ECG List，这个列表中的每个索引对应一个心电图\n",
    "      y : 标签列表，每个标签为一个整数值\n",
    "      返回元组包含两个数组，（样例，标签）\n",
    "      样例shape=(2*len(x),2,(特征))\n",
    "      标签shape=()\n",
    "    Returns:\n",
    "        Tuple containing two numpy arrays as (pairs_of_samples, labels),\n",
    "        where pairs_of_samples' shape is (2len(x), 2,n_features_dims) and\n",
    "        labels are a binary array of shape (2len(x)).\n",
    "    \"\"\"\n",
    "    num_classes = max(y) + 1\n",
    "    digit_indices = [np.where(y == i)[0] for i in range(num_classes)]\n",
    "\n",
    "    pairs = []\n",
    "    labels = []\n",
    "\n",
    "    for idx1 in range(len(x)):\n",
    "        # add a matching example\n",
    "        x1 = x[idx1]\n",
    "        label1 = y[idx1]\n",
    "        idx2 = random.choice(digit_indices[label1])\n",
    "        x2 = x[idx2]\n",
    "\n",
    "        pairs += [[x1, x2]]\n",
    "        labels += [0]\n",
    "\n",
    "        # add a non-matching example\n",
    "        label2 = random.randint(0, num_classes - 1)\n",
    "        while label2 == label1:\n",
    "            label2 = random.randint(0, num_classes - 1)\n",
    "\n",
    "        idx2 = random.choice(digit_indices[label2])\n",
    "        x2 = x[idx2]\n",
    "\n",
    "        pairs += [[x1, x2]]\n",
    "        labels += [1]\n",
    "\n",
    "    return np.array(pairs), np.array(labels).astype(\"float32\")"
   ]
  },
  {
   "cell_type": "code",
   "execution_count": 88,
   "metadata": {},
   "outputs": [],
   "source": [
    "# make train pairs\n",
    "pairs_train, labels_train = make_pairs(x_train, y_train)\n",
    "# make validation pairs\n",
    "pairs_val, labels_val = make_pairs(x_val, y_val)\n",
    "# make test pairs\n",
    "pairs_test, labels_test = make_pairs(x_test, y_test)"
   ]
  },
  {
   "cell_type": "code",
   "execution_count": 89,
   "metadata": {},
   "outputs": [
    {
     "data": {
      "text/plain": [
       "((5226, 1000, 12), (5210, 1000, 12), (5226,), (5210,))"
      ]
     },
     "execution_count": 89,
     "metadata": {},
     "output_type": "execute_result"
    }
   ],
   "source": [
    "x_train.shape,x_val.shape,y_train.shape,y_val.shape"
   ]
  },
  {
   "cell_type": "code",
   "execution_count": 90,
   "metadata": {},
   "outputs": [
    {
     "data": {
      "text/plain": [
       "((10452, 2, 1000, 12), (10452,))"
      ]
     },
     "execution_count": 90,
     "metadata": {},
     "output_type": "execute_result"
    }
   ],
   "source": [
    "pairs_train.shape,labels_train.shape"
   ]
  },
  {
   "cell_type": "code",
   "execution_count": 91,
   "metadata": {},
   "outputs": [
    {
     "data": {
      "text/plain": [
       "((2336, 2, 1000, 12), (2336,))"
      ]
     },
     "execution_count": 91,
     "metadata": {},
     "output_type": "execute_result"
    }
   ],
   "source": [
    "pairs_test.shape,labels_test.shape"
   ]
  },
  {
   "cell_type": "code",
   "execution_count": 92,
   "metadata": {},
   "outputs": [],
   "source": [
    "x_train_1 = pairs_train[:, 0]  # x_train_1.shape is (10452, 1000, 12)\n",
    "x_train_2 = pairs_train[:, 1]"
   ]
  },
  {
   "cell_type": "code",
   "execution_count": 93,
   "metadata": {},
   "outputs": [],
   "source": [
    "x_val_1 = pairs_val[:, 0]  # x_val_1.shape = (10452, 1000, 12)\n",
    "x_val_2 = pairs_val[:, 1]"
   ]
  },
  {
   "cell_type": "code",
   "execution_count": 94,
   "metadata": {},
   "outputs": [],
   "source": [
    "x_test_1 = pairs_test[:, 0]  # x_test_1.shape = (2338, 1000, 12)\n",
    "x_test_2 = pairs_test[:, 1]"
   ]
  },
  {
   "cell_type": "code",
   "execution_count": 95,
   "metadata": {},
   "outputs": [],
   "source": [
    "# 定义模型\n",
    "\n",
    "#有两个输入层，每个输入层都通向自己的网络，该网络产生嵌入。\n",
    "#Lambda层使用欧几里得距离将它们合并，并将合并的输出反馈到最终网络。\n"
   ]
  },
  {
   "cell_type": "code",
   "execution_count": 182,
   "metadata": {},
   "outputs": [],
   "source": [
    "# Provided two tensors t1 and t2\n",
    "# Euclidean distance = sqrt(sum(square(t1-t2)))\n",
    "def euclidean_distance(vects):\n",
    "    \"\"\"\n",
    "    求两个向量的欧式距离\n",
    "    参数：包含两个长度相同的张量\n",
    "    返回：包含向量欧式距离的张量\n",
    "        \n",
    "    \"\"\"\n",
    "    x, y = vects\n",
    "    sum_square = tf.math.reduce_sum(tf.math.square(x - y), axis=1, keepdims=True)\n",
    "    return tf.math.sqrt(tf.math.maximum(sum_square, tf.keras.backend.epsilon()))\n",
    "\n",
    "input = layers.Input((1000, 12))\n",
    "\n",
    "x = tf.keras.layers.BatchNormalization()(input)\n",
    "x = layers.Conv1D(32, 2, activation=\"tanh\")(x)\n",
    "x = layers.MaxPooling1D(pool_size=2)(x)\n",
    "x = layers.Conv1D(64, 2, activation=\"tanh\")(x)\n",
    "x = layers.MaxPooling1D(pool_size= 2)(x)\n",
    "x = layers.Conv1D(32, 2, activation=\"tanh\")(x)\n",
    "x = layers.MaxPooling1D(pool_size= 2)(x)\n",
    "\n",
    "x = layers.Flatten()(x)\n",
    "x = tf.keras.layers.BatchNormalization()(x)\n",
    "x = layers.Dense(64, activation=\"tanh\")(x)\n",
    "x = layers.Dense(2, activation=\"tanh\")(x)\n",
    "embedding_network = keras.Model(input, x)\n",
    "\n",
    "\n",
    "input_1 = layers.Input((1000, 12))\n",
    "input_2 = layers.Input((1000, 12))\n",
    "\n",
    "# As mentioned above, Siamese Network share weights between\n",
    "# tower networks (sister networks). To allow this, we will use\n",
    "# same embedding network for both tower networks.\n",
    "tower_1 = embedding_network(input_1)\n",
    "tower_2 = embedding_network(input_2)\n",
    "\n",
    "merge_layer = layers.Lambda(euclidean_distance)([tower_1, tower_2])\n",
    "normal_layer = tf.keras.layers.BatchNormalization()(merge_layer)\n",
    "output_layer = layers.Dense(1, activation=\"sigmoid\")(normal_layer)\n",
    "siamese = keras.Model(inputs=[input_1, input_2], outputs=output_layer)\n",
    "# Provided two tensors t1 and t2\n",
    "# Euclidean distance = sqrt(sum(square(t1-t2)))\n",
    "# Provided two tensors t1 and t2\n",
    "# Euclidean distance = sqrt(sum(square(t1-t2)))\n",
    "\n"
   ]
  },
  {
   "cell_type": "code",
   "execution_count": 183,
   "metadata": {},
   "outputs": [],
   "source": [
    "\n",
    "def loss(margin=1):\n",
    "    \"\"\"为'constrastive_loss'提供一个包含变量'margin'的封闭作用域。\n",
    "    参数:margin:整数，定义了输入对之间距离的基线应归为异类。-(默认为1)。\n",
    "    返回'constrastive_loss'函数，附带数据('margin')。\n",
    "    \"\"\"\n",
    "    def contrastive_loss(y_true, y_pred):\n",
    "        square_pred = tf.math.square(y_pred)\n",
    "        margin_square = tf.math.square(tf.math.maximum(margin - (y_pred), 0))\n",
    "        return tf.math.reduce_mean(\n",
    "            (1 - y_true) * square_pred + (y_true) * margin_square\n",
    "        )\n",
    "\n",
    "    return contrastive_loss\n"
   ]
  },
  {
   "cell_type": "code",
   "execution_count": 193,
   "metadata": {},
   "outputs": [],
   "source": [
    "epochs = 10\n",
    "batch_size = 64\n",
    "margin = 0.7  # Margin for constrastive loss."
   ]
  },
  {
   "cell_type": "code",
   "execution_count": 194,
   "metadata": {},
   "outputs": [],
   "source": [
    "siamese.compile(loss=loss(margin=margin), optimizer=\"RMSprop\", metrics=[\"accuracy\"])\n",
    "# siamese.summary()"
   ]
  },
  {
   "cell_type": "code",
   "execution_count": 195,
   "metadata": {},
   "outputs": [
    {
     "name": "stdout",
     "output_type": "stream",
     "text": [
      "Epoch 1/10\n",
      "164/164 [==============================] - 15s 76ms/step - loss: 0.0048 - accuracy: 0.9841 - val_loss: 0.1836 - val_accuracy: 0.6150\n",
      "Epoch 2/10\n",
      "164/164 [==============================] - 10s 62ms/step - loss: 0.0046 - accuracy: 0.9865 - val_loss: 0.1573 - val_accuracy: 0.6830\n",
      "Epoch 3/10\n",
      "164/164 [==============================] - 10s 63ms/step - loss: 0.0049 - accuracy: 0.9866 - val_loss: 0.1679 - val_accuracy: 0.6544\n",
      "Epoch 4/10\n",
      "164/164 [==============================] - 10s 59ms/step - loss: 0.0046 - accuracy: 0.9869 - val_loss: 0.1584 - val_accuracy: 0.6801\n",
      "Epoch 5/10\n",
      "164/164 [==============================] - 7s 40ms/step - loss: 0.0041 - accuracy: 0.9887 - val_loss: 0.1645 - val_accuracy: 0.6811\n",
      "Epoch 6/10\n",
      "164/164 [==============================] - 7s 40ms/step - loss: 0.0045 - accuracy: 0.9886 - val_loss: 0.1578 - val_accuracy: 0.6843\n",
      "Epoch 7/10\n",
      "164/164 [==============================] - 7s 40ms/step - loss: 0.0047 - accuracy: 0.9875 - val_loss: 0.1645 - val_accuracy: 0.6770\n",
      "Epoch 8/10\n",
      "164/164 [==============================] - 7s 41ms/step - loss: 0.0045 - accuracy: 0.9878 - val_loss: 0.1672 - val_accuracy: 0.6690\n",
      "Epoch 9/10\n",
      "164/164 [==============================] - 6s 39ms/step - loss: 0.0045 - accuracy: 0.9876 - val_loss: 0.1654 - val_accuracy: 0.6749\n",
      "Epoch 10/10\n",
      "164/164 [==============================] - 7s 40ms/step - loss: 0.0039 - accuracy: 0.9900 - val_loss: 0.1767 - val_accuracy: 0.6424\n"
     ]
    }
   ],
   "source": [
    "history = siamese.fit(\n",
    "    [x_train_1, x_train_2],\n",
    "    labels_train,\n",
    "    validation_data=([x_val_1, x_val_2], labels_val),\n",
    "    batch_size=batch_size,\n",
    "    epochs=epochs,\n",
    ")"
   ]
  },
  {
   "cell_type": "code",
   "execution_count": null,
   "metadata": {},
   "outputs": [],
   "source": [
    "\n",
    "def plt_metric(history, metric, title, has_valid=True):\n",
    "\n",
    "    plt.plot(history[metric])\n",
    "    if has_valid:\n",
    "        plt.plot(history[\"val_\" + metric])\n",
    "        plt.legend([\"train\", \"validation\"], loc=\"upper left\")\n",
    "    plt.title(title)\n",
    "    plt.ylabel(metric)\n",
    "    plt.xlabel(\"epoch\")\n",
    "    plt.show()\n",
    "\n",
    "\n",
    "# Plot the accuracy\n",
    "plt_metric(history=history.history, metric=\"accuracy\", title=\"Model accuracy\")\n",
    "\n",
    "# Plot the constrastive loss\n",
    "plt_metric(history=history.history, metric=\"loss\", title=\"Constrastive Loss\")"
   ]
  },
  {
   "cell_type": "code",
   "execution_count": null,
   "metadata": {},
   "outputs": [],
   "source": [
    "results = siamese.evaluate([x_test_1, x_test_2], labels_test)\n",
    "print(\"test loss, test acc:\", results)"
   ]
  }
 ],
 "metadata": {
  "kernelspec": {
   "display_name": "Python 3 (ipykernel)",
   "language": "python",
   "name": "python3"
  },
  "orig_nbformat": 4
 },
 "nbformat": 4,
 "nbformat_minor": 2
}
