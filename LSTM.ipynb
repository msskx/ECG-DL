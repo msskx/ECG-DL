{
 "cells": [
  {
   "cell_type": "code",
   "execution_count": 12,
   "id": "ced105d2",
   "metadata": {},
   "outputs": [],
   "source": [
    "import pandas as pd\n",
    "import numpy as np\n",
    "import wfdb\n",
    "import ast\n",
    "import os\n",
    "os.environ['TF_CPP_MIN_LOG_LEVEL']='2'\n",
    "from tensorflow.keras.utils import to_categorical\n",
    "from Function.evaluate import model_evaluate"
   ]
  },
  {
   "cell_type": "code",
   "execution_count": 4,
   "id": "3d5bf358",
   "metadata": {},
   "outputs": [],
   "source": [
    "import matplotlib.pyplot as plt\n",
    "import tensorflow as tf\n",
    "from tensorflow.keras.models import Sequential\n",
    "from  tensorflow.keras.layers import LSTM,Dense,Dropout,Bidirectional,SimpleRNN,GRU,BatchNormalization\n",
    "from tensorflow.keras.utils import to_categorical\n",
    "from tensorflow import keras"
   ]
  },
  {
   "cell_type": "markdown",
   "id": "fc2f64d4",
   "metadata": {},
   "source": [
    "| **Records** | **Superclass** | **Description**        |   **Chinese**        |\n",
    "| :---------: | -------------- | ---------------------- | -------------------- |\n",
    "|    2649     | HYP            | Hypertrophy            | 心脏肥大             |\n",
    "|    9517     | NORM           | Normal ECG             | 正常信号             |\n",
    "|    5473     | MI             | Myocardial Infarction  | 心肌梗死             |\n",
    "|    5237     | STTC           | ST/T Change            | 心肌供血不足ST-T变化 |\n",
    "|    4901     | CD             | Conduction Disturbance | 心脏传导异常         |\n",
    "\n"
   ]
  },
  {
   "cell_type": "code",
   "execution_count": null,
   "id": "e4308f93",
   "metadata": {},
   "outputs": [],
   "source": []
  },
  {
   "cell_type": "code",
   "execution_count": 5,
   "id": "3b0a72b4",
   "metadata": {},
   "outputs": [],
   "source": [
    "from Data.Dataloader import DataLoader"
   ]
  },
  {
   "cell_type": "code",
   "execution_count": 6,
   "id": "6a0e3e7d",
   "metadata": {},
   "outputs": [
    {
     "name": "stdout",
     "output_type": "stream",
     "text": [
      "================loading data================\n",
      "原数据集训练样本数：19603，去除空值后样本数：10436\n",
      "原数据集测试样本数：2198，去除空值后样本数：1168\n"
     ]
    }
   ],
   "source": [
    "data = DataLoader()"
   ]
  },
  {
   "cell_type": "code",
   "execution_count": 7,
   "id": "a0e90b90",
   "metadata": {},
   "outputs": [],
   "source": [
    "X_train, y_train, X_test, y_test = data.getdata01()"
   ]
  },
  {
   "cell_type": "code",
   "execution_count": 9,
   "id": "88504483",
   "metadata": {},
   "outputs": [],
   "source": [
    "verbose, epochs, batch_size = 1, 15, 64\n",
    "n_timesteps, n_features, n_outputs = X_train.shape[1], X_train.shape[2], 2"
   ]
  },
  {
   "cell_type": "code",
   "execution_count": 10,
   "id": "24bbc57d",
   "metadata": {},
   "outputs": [
    {
     "data": {
      "text/plain": [
       "12"
      ]
     },
     "execution_count": 10,
     "metadata": {},
     "output_type": "execute_result"
    }
   ],
   "source": [
    "n_features"
   ]
  },
  {
   "cell_type": "code",
   "execution_count": 13,
   "id": "ab4ad936",
   "metadata": {},
   "outputs": [],
   "source": [
    "model = Sequential()\n",
    "model.add(GRU(100, input_shape=(n_timesteps,n_features)))\n",
    "model.add(Dropout(0.5))\n",
    "\n",
    "model.add(Dense(100, activation='relu'))\n",
    "model.add(Dense(2, activation='softmax'))\n",
    "model.compile(loss='binary_crossentropy', optimizer=keras.optimizers.Adam(learning_rate=1e-4), metrics=['accuracy'])\n"
   ]
  },
  {
   "cell_type": "code",
   "execution_count": 14,
   "id": "f0990ca6",
   "metadata": {},
   "outputs": [
    {
     "name": "stdout",
     "output_type": "stream",
     "text": [
      "Model: \"sequential_1\"\n",
      "_________________________________________________________________\n",
      " Layer (type)                Output Shape              Param #   \n",
      "=================================================================\n",
      " gru_1 (GRU)                 (None, 100)               34200     \n",
      "                                                                 \n",
      " dropout_1 (Dropout)         (None, 100)               0         \n",
      "                                                                 \n",
      " dense_2 (Dense)             (None, 100)               10100     \n",
      "                                                                 \n",
      " dense_3 (Dense)             (None, 2)                 202       \n",
      "                                                                 \n",
      "=================================================================\n",
      "Total params: 44,502\n",
      "Trainable params: 44,502\n",
      "Non-trainable params: 0\n",
      "_________________________________________________________________\n"
     ]
    }
   ],
   "source": [
    "model.summary()"
   ]
  },
  {
   "cell_type": "code",
   "execution_count": 15,
   "id": "6500cc27",
   "metadata": {},
   "outputs": [
    {
     "name": "stdout",
     "output_type": "stream",
     "text": [
      "Epoch 1/15\n"
     ]
    },
    {
     "name": "stderr",
     "output_type": "stream",
     "text": [
      "2022-09-30 20:10:42.190431: W tensorflow/core/framework/cpu_allocator_impl.cc:82] Allocation of 500928000 exceeds 10% of free system memory.\n"
     ]
    },
    {
     "name": "stdout",
     "output_type": "stream",
     "text": [
      "164/164 [==============================] - 126s 757ms/step - loss: 0.6482 - accuracy: 0.7602 - val_loss: 0.5679 - val_accuracy: 0.7808\n",
      "Epoch 2/15\n",
      "164/164 [==============================] - 129s 788ms/step - loss: 0.5313 - accuracy: 0.7818 - val_loss: 0.5250 - val_accuracy: 0.7808\n",
      "Epoch 3/15\n",
      "164/164 [==============================] - 123s 747ms/step - loss: 0.5257 - accuracy: 0.7819 - val_loss: 0.5244 - val_accuracy: 0.7808\n",
      "Epoch 4/15\n",
      "164/164 [==============================] - 116s 706ms/step - loss: 0.5255 - accuracy: 0.7819 - val_loss: 0.5240 - val_accuracy: 0.7808\n",
      "Epoch 5/15\n",
      "164/164 [==============================] - 117s 715ms/step - loss: 0.5232 - accuracy: 0.7819 - val_loss: 0.5239 - val_accuracy: 0.7808\n",
      "Epoch 6/15\n",
      "164/164 [==============================] - 120s 729ms/step - loss: 0.5219 - accuracy: 0.7819 - val_loss: 0.5229 - val_accuracy: 0.7808\n",
      "Epoch 7/15\n",
      "164/164 [==============================] - 119s 728ms/step - loss: 0.5205 - accuracy: 0.7819 - val_loss: 0.5212 - val_accuracy: 0.7808\n",
      "Epoch 8/15\n",
      "164/164 [==============================] - 117s 711ms/step - loss: 0.5183 - accuracy: 0.7819 - val_loss: 0.5190 - val_accuracy: 0.7808\n",
      "Epoch 9/15\n",
      "164/164 [==============================] - 104s 636ms/step - loss: 0.5133 - accuracy: 0.7819 - val_loss: 0.5128 - val_accuracy: 0.7808\n",
      "Epoch 10/15\n",
      "164/164 [==============================] - 101s 614ms/step - loss: 0.5096 - accuracy: 0.7819 - val_loss: 0.5018 - val_accuracy: 0.7808\n",
      "Epoch 11/15\n",
      "164/164 [==============================] - 122s 744ms/step - loss: 0.4754 - accuracy: 0.7819 - val_loss: 0.4533 - val_accuracy: 0.7808\n",
      "Epoch 12/15\n",
      "164/164 [==============================] - 123s 751ms/step - loss: 0.5138 - accuracy: 0.7819 - val_loss: 0.4843 - val_accuracy: 0.7808\n",
      "Epoch 13/15\n",
      "164/164 [==============================] - 124s 758ms/step - loss: 0.4598 - accuracy: 0.7819 - val_loss: 0.4583 - val_accuracy: 0.7808\n",
      "Epoch 14/15\n",
      "164/164 [==============================] - 123s 749ms/step - loss: 0.4455 - accuracy: 0.7820 - val_loss: 0.4569 - val_accuracy: 0.7808\n",
      "Epoch 15/15\n",
      "164/164 [==============================] - 120s 733ms/step - loss: 0.4495 - accuracy: 0.7823 - val_loss: 0.4344 - val_accuracy: 0.7808\n"
     ]
    }
   ],
   "source": [
    "history = model.fit(X_train, y_train, batch_size=64, epochs=15,validation_data=(X_test, y_test), validation_freq=1)\n"
   ]
  },
  {
   "cell_type": "code",
   "execution_count": 16,
   "id": "8e29551a",
   "metadata": {},
   "outputs": [
    {
     "name": "stdout",
     "output_type": "stream",
     "text": [
      "37/37 [==============================] - 6s 143ms/step\n",
      "准确率：  0.7808219178082192\n",
      "混淆矩阵：\n",
      "[[  0 256]\n",
      " [  0 912]]\n",
      "precision_score:  0.7808219178082192\n",
      "recall:  1.0\n",
      "f1 score:  0.8769230769230769\n"
     ]
    }
   ],
   "source": [
    "model_evaluate(X_test, y_test, model)"
   ]
  },
  {
   "cell_type": "code",
   "execution_count": null,
   "id": "c1c20faf",
   "metadata": {},
   "outputs": [],
   "source": []
  }
 ],
 "metadata": {
  "kernelspec": {
   "display_name": "Python 3 (ipykernel)",
   "language": "python",
   "name": "python3"
  },
  "language_info": {
   "codemirror_mode": {
    "name": "ipython",
    "version": 3
   },
   "file_extension": ".py",
   "mimetype": "text/x-python",
   "name": "python",
   "nbconvert_exporter": "python",
   "pygments_lexer": "ipython3",
   "version": "3.8.5"
  }
 },
 "nbformat": 4,
 "nbformat_minor": 5
}
